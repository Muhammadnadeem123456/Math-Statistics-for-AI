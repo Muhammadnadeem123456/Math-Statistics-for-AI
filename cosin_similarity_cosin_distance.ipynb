{
 "cells": [
  {
   "cell_type": "code",
   "execution_count": 5,
   "id": "05bcf930-f226-4f69-b970-4521fabe4497",
   "metadata": {},
   "outputs": [],
   "source": [
    "from sklearn.metrics.pairwise import cosine_similarity, cosine_distances"
   ]
  },
  {
   "cell_type": "code",
   "execution_count": 6,
   "id": "bea201a7-a680-4cc7-a644-c8be27536de4",
   "metadata": {},
   "outputs": [
    {
     "data": {
      "text/plain": [
       "array([[1.]])"
      ]
     },
     "execution_count": 6,
     "metadata": {},
     "output_type": "execute_result"
    }
   ],
   "source": [
    "cosine_similarity([[3, 1]], [[6, 2]])"
   ]
  },
  {
   "cell_type": "code",
   "execution_count": 9,
   "id": "e4700565-5277-454b-af26-6f3521a2d90e",
   "metadata": {},
   "outputs": [
    {
     "data": {
      "text/plain": [
       "array([[1.11022302e-16]])"
      ]
     },
     "execution_count": 9,
     "metadata": {},
     "output_type": "execute_result"
    }
   ],
   "source": [
    "cosine_distances([[3, 1]], [[6, 2]])"
   ]
  },
  {
   "cell_type": "code",
   "execution_count": 11,
   "id": "9b26ccf4-36ed-479b-be0e-2f7e5ce4e4f3",
   "metadata": {},
   "outputs": [
    {
     "data": {
      "text/plain": [
       "array([[0.]])"
      ]
     },
     "execution_count": 11,
     "metadata": {},
     "output_type": "execute_result"
    }
   ],
   "source": [
    "cosine_similarity([[3, 0]], [[0, 8]])"
   ]
  },
  {
   "cell_type": "code",
   "execution_count": 12,
   "id": "f661a992-99e2-4c5b-9f52-b18b48bb4ad5",
   "metadata": {},
   "outputs": [
    {
     "data": {
      "text/plain": [
       "array([[1.]])"
      ]
     },
     "execution_count": 12,
     "metadata": {},
     "output_type": "execute_result"
    }
   ],
   "source": [
    "cosine_distances([[3, 0]], [[0, 8]])"
   ]
  },
  {
   "cell_type": "code",
   "execution_count": null,
   "id": "b6faac9b-b6d5-4ccd-bd2e-b2c5d56db7c7",
   "metadata": {},
   "outputs": [],
   "source": []
  },
  {
   "cell_type": "code",
   "execution_count": null,
   "id": "c2fdcaa6-d2b6-4bb9-bad1-b485d9b2364f",
   "metadata": {},
   "outputs": [],
   "source": []
  },
  {
   "cell_type": "code",
   "execution_count": null,
   "id": "21763a7b-4e58-49b0-bc9b-7093c34c3829",
   "metadata": {},
   "outputs": [],
   "source": []
  },
  {
   "cell_type": "code",
   "execution_count": null,
   "id": "59111f50-5c65-41de-b6ba-b6385381c22f",
   "metadata": {},
   "outputs": [],
   "source": []
  },
  {
   "cell_type": "code",
   "execution_count": null,
   "id": "0f6a3b51-21cf-40da-8a98-485dbe7bfeef",
   "metadata": {},
   "outputs": [],
   "source": []
  },
  {
   "cell_type": "code",
   "execution_count": null,
   "id": "e3642364-f3a5-462b-a8b2-38b428563341",
   "metadata": {},
   "outputs": [],
   "source": []
  },
  {
   "cell_type": "code",
   "execution_count": null,
   "id": "e9752d1a-0ec6-4239-82b8-4699633696df",
   "metadata": {},
   "outputs": [],
   "source": []
  },
  {
   "cell_type": "code",
   "execution_count": null,
   "id": "ecfb874f-566b-4acd-b821-03685c6457fb",
   "metadata": {},
   "outputs": [],
   "source": []
  }
 ],
 "metadata": {
  "kernelspec": {
   "display_name": "Python 3 (ipykernel)",
   "language": "python",
   "name": "python3"
  },
  "language_info": {
   "codemirror_mode": {
    "name": "ipython",
    "version": 3
   },
   "file_extension": ".py",
   "mimetype": "text/x-python",
   "name": "python",
   "nbconvert_exporter": "python",
   "pygments_lexer": "ipython3",
   "version": "3.12.5"
  }
 },
 "nbformat": 4,
 "nbformat_minor": 5
}
